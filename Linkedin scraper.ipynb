{
 "cells": [
  {
   "cell_type": "markdown",
   "metadata": {},
   "source": [
    "\n",
    "<font size=\"6\">**Linkedin Scrapper**</font>\n"
   ]
  },
  {
   "cell_type": "code",
   "execution_count": 1,
   "metadata": {},
   "outputs": [],
   "source": [
    "import warnings\n",
    "warnings.filterwarnings(\"ignore\")"
   ]
  },
  {
   "cell_type": "code",
   "execution_count": 2,
   "metadata": {},
   "outputs": [
    {
     "data": {
      "text/plain": [
       "True"
      ]
     },
     "execution_count": 2,
     "metadata": {},
     "output_type": "execute_result"
    }
   ],
   "source": [
    "import os\n",
    "from bs4 import BeautifulSoup\n",
    "from selenium import webdriver\n",
    "from selenium.webdriver.common.by import By\n",
    "\n",
    "from time import sleep\n",
    "\n",
    "from dotenv import load_dotenv\n",
    "load_dotenv()"
   ]
  },
  {
   "cell_type": "code",
   "execution_count": 3,
   "metadata": {},
   "outputs": [
    {
     "data": {
      "text/plain": [
       "('ruizdavalos@gmail.com', 'juan4669')"
      ]
     },
     "execution_count": 3,
     "metadata": {},
     "output_type": "execute_result"
    }
   ],
   "source": [
    "os.environ['EMAIL'], os.environ['PASSWORD']"
   ]
  },
  {
   "cell_type": "code",
   "execution_count": 4,
   "metadata": {},
   "outputs": [],
   "source": [
    "driver = webdriver.Chrome()"
   ]
  },
  {
   "cell_type": "code",
   "execution_count": 5,
   "metadata": {},
   "outputs": [
    {
     "data": {
      "text/plain": [
       "''"
      ]
     },
     "execution_count": 5,
     "metadata": {},
     "output_type": "execute_result"
    }
   ],
   "source": [
    "driver.title"
   ]
  },
  {
   "cell_type": "code",
   "execution_count": 6,
   "metadata": {},
   "outputs": [],
   "source": [
    "driver.get('https://www.linkedin.com/login')"
   ]
  },
  {
   "cell_type": "code",
   "execution_count": 7,
   "metadata": {},
   "outputs": [
    {
     "data": {
      "text/plain": [
       "'LinkedIn Login, Sign in | LinkedIn'"
      ]
     },
     "execution_count": 7,
     "metadata": {},
     "output_type": "execute_result"
    }
   ],
   "source": [
    "driver.title"
   ]
  },
  {
   "cell_type": "code",
   "execution_count": 8,
   "metadata": {},
   "outputs": [],
   "source": [
    "email= driver.find_element(By.ID,'username')\n",
    "email.send_keys(os.environ['EMAIL'])\n",
    "\n",
    "password= driver.find_element(By.ID,'password')\n",
    "password.send_keys(os.environ['PASSWORD'])\n",
    "\n",
    "password.submit()"
   ]
  },
  {
   "cell_type": "code",
   "execution_count": 9,
   "metadata": {},
   "outputs": [],
   "source": [
    "url=\"https://www.linkedin.com/in/juan--ruiz/\"\n",
    "driver.get(url)"
   ]
  },
  {
   "cell_type": "code",
   "execution_count": 10,
   "metadata": {},
   "outputs": [],
   "source": [
    "profile_data={}"
   ]
  },
  {
   "cell_type": "code",
   "execution_count": 11,
   "metadata": {},
   "outputs": [
    {
     "data": {
      "text/plain": [
       "'(20) Juan Ruiz | LinkedIn'"
      ]
     },
     "execution_count": 11,
     "metadata": {},
     "output_type": "execute_result"
    }
   ],
   "source": [
    "driver.title"
   ]
  },
  {
   "cell_type": "code",
   "execution_count": 12,
   "metadata": {},
   "outputs": [],
   "source": [
    "page_source = driver.page_source\n",
    "soup = BeautifulSoup(page_source,'lxml')\n"
   ]
  },
  {
   "cell_type": "code",
   "execution_count": 13,
   "metadata": {},
   "outputs": [],
   "source": [
    "name = soup.find('h1', {'class':'TJvZKwEBLuBIvRUZGamLzDCMNpOEUKZs inline t-24 v-align-middle break-words'})\n",
    "name = name.get_text().strip()\n",
    "\n",
    "profile_data['name']= name\n",
    "profile_data['url']=url"
   ]
  },
  {
   "cell_type": "code",
   "execution_count": 14,
   "metadata": {},
   "outputs": [],
   "source": [
    "headline= soup.find('div', {'class':'text-body-medium break-words'})\n",
    "\n",
    "headline=headline.get_text().strip()\n",
    "\n",
    "profile_data['headline']=headline"
   ]
  },
  {
   "cell_type": "markdown",
   "metadata": {},
   "source": [
    "### Show More"
   ]
  },
  {
   "cell_type": "code",
   "execution_count": 20,
   "metadata": {},
   "outputs": [],
   "source": [
    "driver.find_element(By.CLASS_NAME,\"inline-show-more-text__button\").click()"
   ]
  },
  {
   "cell_type": "code",
   "execution_count": null,
   "metadata": {},
   "outputs": [],
   "source": [
    "page_source = driver.page_source\n",
    "#soup= BeautifulSoup(page_source='lxml')\n",
    "\n",
    "about = soup.find('div', {'class':'display-flex ph5 pv3'})\n",
    "\n",
    "about = about.get_text().strip()\n",
    "\n",
    "profile_data['about'] = about\n"
   ]
  },
  {
   "cell_type": "code",
   "execution_count": null,
   "metadata": {},
   "outputs": [
    {
     "data": {
      "text/plain": [
       "{'name': 'Juan Ruiz',\n",
       " 'url': 'https://www.linkedin.com/in/juan--ruiz/',\n",
       " 'headline': 'Ingeniero Industrial | Python | Data science | Data analytics | Business Intelligence | Power BI | SQL | Tableau',\n",
       " 'about': 'Confió plenamente en mis habilidades blandas para liderar y crear equipos de trabajos sólidos, basándome en la participación y escucha activa de todos los colaboradores.Así como confesar ser un apasionado en la búsqueda de resolución de problemas, lo cual implica tener siempre una gran motivación para seguir perfeccionando habilidades que a futuro permitan desarrollar ideas/soluciones sólidas y duraderas.Confió plenamente en mis habilidades blandas para liderar y crear equipos de trabajos sólidos, basándome en la participación y escucha activa de todos los colaboradores.\\n\\nAsí como confesar ser un apasionado en la búsqueda de resolución de problemas, lo cual implica tener siempre una gran motivación para seguir perfeccionando habilidades que a futuro permitan desarrollar ideas/soluciones sólidas y duraderas.'}"
      ]
     },
     "execution_count": 44,
     "metadata": {},
     "output_type": "execute_result"
    }
   ],
   "source": [
    "profile_data"
   ]
  },
  {
   "cell_type": "markdown",
   "metadata": {},
   "source": [
    "### Read Experience"
   ]
  },
  {
   "cell_type": "code",
   "execution_count": 196,
   "metadata": {},
   "outputs": [],
   "source": [
    "page_source= driver.page_source\n",
    "soup = BeautifulSoup(page_source,'lxml')\n",
    "\n",
    "\n",
    "sections= soup.find_all('section',{'class':'artdeco-card pv-profile-card break-words mt2'})\n",
    "\n"
   ]
  },
  {
   "cell_type": "code",
   "execution_count": 197,
   "metadata": {},
   "outputs": [],
   "source": [
    "for sec in sections:\n",
    "  if sec.find('div',{'id':'experience'}):\n",
    "    experience= sec\n",
    "\n",
    "#print(experience.get_text().strip())"
   ]
  },
  {
   "cell_type": "code",
   "execution_count": 198,
   "metadata": {},
   "outputs": [],
   "source": [
    "experience= experience.findAll('div', {'class':'GrJhtxcsKtuxnUWSKcaazdLPUdrqqT oTBKIVDbGtFmdUsZIRyNplDkmIHzxSvMrurg xnQvdPqNIUeCiCiENalkATAnmHlqErqMZvu'})\n",
    "\n"
   ]
  },
  {
   "cell_type": "code",
   "execution_count": 199,
   "metadata": {},
   "outputs": [
    {
     "data": {
      "text/plain": [
       "5"
      ]
     },
     "execution_count": 199,
     "metadata": {},
     "output_type": "execute_result"
    }
   ],
   "source": [
    "len(experience)"
   ]
  },
  {
   "cell_type": "code",
   "execution_count": 236,
   "metadata": {},
   "outputs": [],
   "source": [
    "exp=experience[0]"
   ]
  },
  {
   "cell_type": "code",
   "execution_count": 241,
   "metadata": {},
   "outputs": [],
   "source": [
    "def get_exp(exp):\n",
    "\n",
    "  exp_dict={}\n",
    "  namec= exp.find('div',{'class':'display-flex flex-wrap align-items-center full-height'})\n",
    "  namec= namec.find('span',{'class':'visually-hidden'})\n",
    "\n",
    "  namec=namec.get_text().strip()\n",
    "\n",
    "  duration= exp.find('span',{'class':'t-black--light'})\n",
    "  duration= duration.find('span',{'class':'visually-hidden'})\n",
    "  duration=duration.get_text().strip()\n",
    "\n",
    "  exp_dict['company_name']=namec\n",
    "  exp_dict['duration']= duration\n",
    "\n",
    "  designations= exp.findAll('div',{'class':'GrJhtxcsKtuxnUWSKcaazdLPUdrqqT'})\n",
    "\n",
    "  items_list=[]\n",
    "\n",
    "  if designations !=[]:\n",
    "    for position in designations:\n",
    "      spans= position.find_all('span',{'class':'visually-hidden'})\n",
    "\n",
    "      item_dict={}\n",
    "      item_dict['designation']= spans[0].get_text().strip()\n",
    "      item_dict['duration']= spans[1].get_text().strip()\n",
    "      item_dict['location']= spans[2].get_text().strip()\n",
    "\n",
    "      try:\n",
    "        item_dict['project']= spans[3].get_text().strip()\n",
    "      except:\n",
    "        item_dict['project']=\"Linkedin scraper in python\"\n",
    "\n",
    "      items_list.append(item_dict)\n",
    "  else:\n",
    "    item_dict={}\n",
    "    item_dict['designation']= \"Sin dato\"\n",
    "    item_dict['duration']= \"Sin dato\"\n",
    "    item_dict['location']= \"Sin dato\"\n",
    "    item_dict['project']=\"Linkedin scraper in python\"\n",
    "\n",
    "    items_list.append(item_dict)\n",
    "\n",
    "  exp_dict['designation'] = items_list\n",
    "  return exp_dict\n",
    "\n",
    "\n",
    "items_list=[]\n",
    "for exp in experience:\n",
    "  items_list.append(get_exp(exp))"
   ]
  },
  {
   "cell_type": "code",
   "execution_count": 243,
   "metadata": {},
   "outputs": [],
   "source": [
    "profile_data['experience']= items_list"
   ]
  },
  {
   "cell_type": "code",
   "execution_count": null,
   "metadata": {},
   "outputs": [],
   "source": []
  }
 ],
 "metadata": {
  "kernelspec": {
   "display_name": "base",
   "language": "python",
   "name": "python3"
  },
  "language_info": {
   "codemirror_mode": {
    "name": "ipython",
    "version": 3
   },
   "file_extension": ".py",
   "mimetype": "text/x-python",
   "name": "python",
   "nbconvert_exporter": "python",
   "pygments_lexer": "ipython3",
   "version": "3.11.7"
  }
 },
 "nbformat": 4,
 "nbformat_minor": 2
}
