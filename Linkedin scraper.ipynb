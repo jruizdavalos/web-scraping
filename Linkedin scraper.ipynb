{
 "cells": [
  {
   "cell_type": "markdown",
   "metadata": {},
   "source": [
    "\n",
    "<font size=\"6\">**Linkedin Scrapper**</font>\n"
   ]
  },
  {
   "cell_type": "code",
   "execution_count": 310,
   "metadata": {},
   "outputs": [],
   "source": [
    "import warnings\n",
    "warnings.filterwarnings(\"ignore\")"
   ]
  },
  {
   "cell_type": "code",
   "execution_count": 311,
   "metadata": {},
   "outputs": [
    {
     "data": {
      "text/plain": [
       "True"
      ]
     },
     "execution_count": 311,
     "metadata": {},
     "output_type": "execute_result"
    }
   ],
   "source": [
    "import os\n",
    "from bs4 import BeautifulSoup\n",
    "from selenium import webdriver\n",
    "from selenium.webdriver.common.by import By\n",
    "\n",
    "\n",
    "import time\n",
    "\n",
    "from time import sleep\n",
    "\n",
    "from dotenv import load_dotenv\n",
    "load_dotenv()"
   ]
  },
  {
   "cell_type": "code",
   "execution_count": 312,
   "metadata": {},
   "outputs": [],
   "source": [
    "from selenium.webdriver.chrome.options import Options\n",
    "\n",
    "options = Options()\n",
    "options.headless = False  # Activa el modo headless\n",
    "\n"
   ]
  },
  {
   "cell_type": "code",
   "execution_count": 313,
   "metadata": {},
   "outputs": [
    {
     "data": {
      "text/plain": [
       "('ruizdavalos@gmail.com', 'juan4669')"
      ]
     },
     "execution_count": 313,
     "metadata": {},
     "output_type": "execute_result"
    }
   ],
   "source": [
    "os.environ['EMAIL'], os.environ['PASSWORD']"
   ]
  },
  {
   "cell_type": "code",
   "execution_count": 314,
   "metadata": {},
   "outputs": [],
   "source": [
    "driver = webdriver.Chrome(options=options)"
   ]
  },
  {
   "cell_type": "code",
   "execution_count": 315,
   "metadata": {},
   "outputs": [
    {
     "data": {
      "text/plain": [
       "''"
      ]
     },
     "execution_count": 315,
     "metadata": {},
     "output_type": "execute_result"
    }
   ],
   "source": [
    "driver.title"
   ]
  },
  {
   "cell_type": "code",
   "execution_count": 316,
   "metadata": {},
   "outputs": [],
   "source": [
    "driver.get('https://www.linkedin.com/login')"
   ]
  },
  {
   "cell_type": "code",
   "execution_count": 317,
   "metadata": {},
   "outputs": [
    {
     "data": {
      "text/plain": [
       "'LinkedIn Login, Sign in | LinkedIn'"
      ]
     },
     "execution_count": 317,
     "metadata": {},
     "output_type": "execute_result"
    }
   ],
   "source": [
    "driver.title"
   ]
  },
  {
   "cell_type": "code",
   "execution_count": 318,
   "metadata": {},
   "outputs": [],
   "source": [
    "email= driver.find_element(By.ID,'username')\n",
    "email.send_keys(os.environ['EMAIL'])\n",
    "\n",
    "password= driver.find_element(By.ID,'password')\n",
    "password.send_keys(os.environ['PASSWORD'])\n",
    "\n",
    "password.submit()"
   ]
  },
  {
   "cell_type": "code",
   "execution_count": 319,
   "metadata": {},
   "outputs": [],
   "source": [
    "url=\"https://www.linkedin.com/in/juan--ruiz/\"\n",
    "driver.get(url)"
   ]
  },
  {
   "cell_type": "code",
   "execution_count": 320,
   "metadata": {},
   "outputs": [],
   "source": [
    "profile_data={}"
   ]
  },
  {
   "cell_type": "code",
   "execution_count": 321,
   "metadata": {},
   "outputs": [
    {
     "data": {
      "text/plain": [
       "'(20) Juan Ruiz | LinkedIn'"
      ]
     },
     "execution_count": 321,
     "metadata": {},
     "output_type": "execute_result"
    }
   ],
   "source": [
    "driver.title"
   ]
  },
  {
   "cell_type": "code",
   "execution_count": 322,
   "metadata": {},
   "outputs": [],
   "source": [
    "page_source = driver.page_source\n",
    "soup = BeautifulSoup(page_source,'lxml')\n"
   ]
  },
  {
   "cell_type": "code",
   "execution_count": 323,
   "metadata": {},
   "outputs": [],
   "source": [
    "name = soup.find('h1', {'class':'TJvZKwEBLuBIvRUZGamLzDCMNpOEUKZs inline t-24 v-align-middle break-words'})\n",
    "name = name.get_text().strip()\n",
    "\n",
    "profile_data['name']= name\n",
    "profile_data['url']=url"
   ]
  },
  {
   "cell_type": "code",
   "execution_count": 324,
   "metadata": {},
   "outputs": [],
   "source": [
    "headline= soup.find('div', {'class':'text-body-medium break-words'})\n",
    "\n",
    "headline=headline.get_text().strip()\n",
    "\n",
    "profile_data['headline']=headline"
   ]
  },
  {
   "cell_type": "markdown",
   "metadata": {},
   "source": [
    "### Show More"
   ]
  },
  {
   "cell_type": "code",
   "execution_count": 325,
   "metadata": {},
   "outputs": [],
   "source": [
    "#driver.find_element(By.ID,\"inline-show-more-text__button\").click()"
   ]
  },
  {
   "cell_type": "code",
   "execution_count": 326,
   "metadata": {},
   "outputs": [],
   "source": [
    "page_source = driver.page_source\n",
    "#soup= BeautifulSoup(page_source='lxml')\n",
    "\n",
    "about = soup.find('div', {'class':'display-flex ph5 pv3'})\n",
    "\n",
    "about = about.get_text().strip()\n",
    "\n",
    "profile_data['about'] = about\n"
   ]
  },
  {
   "cell_type": "code",
   "execution_count": 327,
   "metadata": {},
   "outputs": [
    {
     "data": {
      "text/plain": [
       "{'name': 'Juan Ruiz',\n",
       " 'url': 'https://www.linkedin.com/in/juan--ruiz/',\n",
       " 'headline': 'Ingeniero Industrial | Python | Data science | Data analytics | Business Intelligence | Power BI | SQL | Tableau',\n",
       " 'about': 'Confió plenamente en mis habilidades blandas para liderar y crear equipos de trabajos sólidos, basándome en la participación y escucha activa de todos los colaboradores.Así como confesar ser un apasionado en la búsqueda de resolución de problemas, lo cual implica tener siempre una gran motivación para seguir perfeccionando habilidades que a futuro permitan desarrollar ideas/soluciones sólidas y duraderas.Confió plenamente en mis habilidades blandas para liderar y crear equipos de trabajos sólidos, basándome en la participación y escucha activa de todos los colaboradores.\\n\\nAsí como confesar ser un apasionado en la búsqueda de resolución de problemas, lo cual implica tener siempre una gran motivación para seguir perfeccionando habilidades que a futuro permitan desarrollar ideas/soluciones sólidas y duraderas.'}"
      ]
     },
     "execution_count": 327,
     "metadata": {},
     "output_type": "execute_result"
    }
   ],
   "source": [
    "profile_data"
   ]
  },
  {
   "cell_type": "markdown",
   "metadata": {},
   "source": [
    "### Read Experience"
   ]
  },
  {
   "cell_type": "code",
   "execution_count": 328,
   "metadata": {},
   "outputs": [],
   "source": [
    "page_source= driver.page_source\n",
    "soup = BeautifulSoup(page_source,'lxml')\n",
    "\n",
    "\n",
    "sections= soup.find_all('section',{'class':'artdeco-card pv-profile-card break-words mt2'})\n",
    "\n"
   ]
  },
  {
   "cell_type": "code",
   "execution_count": 329,
   "metadata": {},
   "outputs": [],
   "source": [
    "for sec in sections:\n",
    "  if sec.find('div',{'id':'experience'}):\n",
    "    experience= sec\n",
    "\n",
    "#print(experience.get_text().strip())"
   ]
  },
  {
   "cell_type": "code",
   "execution_count": 330,
   "metadata": {},
   "outputs": [],
   "source": [
    "experience= experience.findAll('div', {'class':'GrJhtxcsKtuxnUWSKcaazdLPUdrqqT oTBKIVDbGtFmdUsZIRyNplDkmIHzxSvMrurg xnQvdPqNIUeCiCiENalkATAnmHlqErqMZvu'})\n",
    "\n"
   ]
  },
  {
   "cell_type": "code",
   "execution_count": 331,
   "metadata": {},
   "outputs": [
    {
     "data": {
      "text/plain": [
       "5"
      ]
     },
     "execution_count": 331,
     "metadata": {},
     "output_type": "execute_result"
    }
   ],
   "source": [
    "len(experience)"
   ]
  },
  {
   "cell_type": "code",
   "execution_count": 332,
   "metadata": {},
   "outputs": [],
   "source": [
    "exp=experience[0]"
   ]
  },
  {
   "cell_type": "code",
   "execution_count": 333,
   "metadata": {},
   "outputs": [],
   "source": [
    "def get_exp(exp):\n",
    "\n",
    "  exp_dict={}\n",
    "  namec= exp.find('div',{'class':'display-flex flex-wrap align-items-center full-height'})\n",
    "  namec= namec.find('span',{'class':'visually-hidden'})\n",
    "\n",
    "  namec=namec.get_text().strip()\n",
    "\n",
    "  duration= exp.find('span',{'class':'t-black--light'})\n",
    "  duration= duration.find('span',{'class':'visually-hidden'})\n",
    "  duration=duration.get_text().strip()\n",
    "\n",
    "  exp_dict['company_name']=namec\n",
    "  exp_dict['duration']= duration\n",
    "\n",
    "  designations= exp.findAll('div',{'class':'GrJhtxcsKtuxnUWSKcaazdLPUdrqqT'})\n",
    "\n",
    "  items_list=[]\n",
    "\n",
    "  if designations !=[]:\n",
    "    for position in designations:\n",
    "      spans= position.find_all('span',{'class':'visually-hidden'})\n",
    "\n",
    "      item_dict={}\n",
    "      item_dict['designation']= spans[0].get_text().strip()\n",
    "      item_dict['duration']= spans[1].get_text().strip()\n",
    "      item_dict['location']= spans[2].get_text().strip()\n",
    "\n",
    "      try:\n",
    "        item_dict['project']= spans[3].get_text().strip()\n",
    "      except:\n",
    "        item_dict['project']=\"Linkedin scraper in python\"\n",
    "\n",
    "      items_list.append(item_dict)\n",
    "  else:\n",
    "    item_dict={}\n",
    "    item_dict['designation']= \"Sin dato\"\n",
    "    item_dict['duration']= \"Sin dato\"\n",
    "    item_dict['location']= \"Sin dato\"\n",
    "    item_dict['project']=\"Linkedin scraper in python\"\n",
    "\n",
    "    items_list.append(item_dict)\n",
    "\n",
    "  exp_dict['designation'] = items_list\n",
    "  return exp_dict\n",
    "\n",
    "\n",
    "items_list=[]\n",
    "for exp in experience:\n",
    "  items_list.append(get_exp(exp))"
   ]
  },
  {
   "cell_type": "code",
   "execution_count": 334,
   "metadata": {},
   "outputs": [],
   "source": [
    "profile_data['experience']= items_list"
   ]
  },
  {
   "cell_type": "markdown",
   "metadata": {},
   "source": [
    "### Education"
   ]
  },
  {
   "cell_type": "code",
   "execution_count": 335,
   "metadata": {},
   "outputs": [],
   "source": [
    "for sec in sections:\n",
    "  if sec.find('div',{'id':'education'}):\n",
    "    education=sec\n",
    "  "
   ]
  },
  {
   "cell_type": "code",
   "execution_count": 336,
   "metadata": {},
   "outputs": [
    {
     "data": {
      "text/plain": [
       "15"
      ]
     },
     "execution_count": 336,
     "metadata": {},
     "output_type": "execute_result"
    }
   ],
   "source": [
    "len(education)"
   ]
  },
  {
   "cell_type": "code",
   "execution_count": 337,
   "metadata": {},
   "outputs": [],
   "source": [
    "items = education.findAll('div',{'class':'GrJhtxcsKtuxnUWSKcaazdLPUdrqqT oTBKIVDbGtFmdUsZIRyNplDkmIHzxSvMrurg xnQvdPqNIUeCiCiENalkATAnmHlqErqMZvu'})\n"
   ]
  },
  {
   "cell_type": "code",
   "execution_count": 338,
   "metadata": {},
   "outputs": [
    {
     "data": {
      "text/plain": [
       "2"
      ]
     },
     "execution_count": 338,
     "metadata": {},
     "output_type": "execute_result"
    }
   ],
   "source": [
    "len(items)"
   ]
  },
  {
   "cell_type": "code",
   "execution_count": 339,
   "metadata": {},
   "outputs": [],
   "source": [
    "def get_edu(item):\n",
    "  item_dict={}\n",
    "\n",
    "  spans= item.findAll('span',{'class':'visually-hidden'})\n",
    "\n",
    "  item_dict['college'] = spans[0].get_text().strip()\n",
    "  item_dict['degree'] = spans[1].get_text().strip()\n",
    "  item_dict['duration'] = spans[2].get_text().strip()\n",
    "\n",
    "  return item_dict\n",
    "\n",
    "item_list=[]\n",
    "for item in items:\n",
    "  item_list.append(get_edu(item))\n",
    "\n",
    "profile_data[\"education\"]=item_list\n",
    "\n",
    "#profile_data"
   ]
  },
  {
   "cell_type": "markdown",
   "metadata": {},
   "source": [
    "### Licenses & Certifications"
   ]
  },
  {
   "cell_type": "code",
   "execution_count": 340,
   "metadata": {},
   "outputs": [],
   "source": [
    "driver.find_element(By.ID,\"navigation-index-see-all-licenses-and-certifications\").click()"
   ]
  },
  {
   "cell_type": "code",
   "execution_count": 341,
   "metadata": {},
   "outputs": [],
   "source": [
    "time.sleep(1)\n",
    "\n",
    "page_source = driver.page_source\n",
    "soup =  BeautifulSoup(page_source,'lxml')\n",
    "\n",
    "soup = soup.find('section',{'class':'artdeco-card pb3'})\n",
    "\n",
    "items= soup.find_all('div',{'class':'GrJhtxcsKtuxnUWSKcaazdLPUdrqqT oTBKIVDbGtFmdUsZIRyNplDkmIHzxSvMrurg xnQvdPqNIUeCiCiENalkATAnmHlqErqMZvu'})\n"
   ]
  },
  {
   "cell_type": "code",
   "execution_count": 342,
   "metadata": {},
   "outputs": [
    {
     "data": {
      "text/plain": [
       "[<span class=\"visually-hidden\"><!-- -->Máster en SQL Server: Desde Cero a Nivel Profesional<!-- --></span>,\n",
       " <span class=\"visually-hidden\"><!-- -->Udemy<!-- --></span>,\n",
       " <span class=\"visually-hidden\"><!-- -->Expedición: may. 2024<!-- --></span>,\n",
       " <span class=\"visually-hidden\"><strong><!-- -->Aptitudes:<!-- --></strong><span class=\"white-space-pre\"> </span>Diseño de bases de datos · Extraer, transformar y cargar (ETL)<!-- --></span>]"
      ]
     },
     "execution_count": 342,
     "metadata": {},
     "output_type": "execute_result"
    }
   ],
   "source": [
    "item= items[0]\n",
    "\n",
    "item.find_all('span',{'class':'visually-hidden'})"
   ]
  },
  {
   "cell_type": "code",
   "execution_count": 343,
   "metadata": {},
   "outputs": [],
   "source": [
    "def get_license(item):\n",
    "  item_dict={}\n",
    "\n",
    "  spans= item.findAll('span',{'class':'visually-hidden'})\n",
    "\n",
    "  item_dict['name'] = spans[0].get_text().strip()\n",
    "  item_dict['istitute'] = spans[1].get_text().strip()\n",
    "  item_dict['issued_date'] = spans[2].get_text().strip()\n",
    "\n",
    "  return item_dict\n",
    "\n",
    "item_list=[]\n",
    "for item in items:\n",
    "  item_list.append(get_license(item))\n",
    "\n",
    "profile_data[\"license\"]=item_list"
   ]
  },
  {
   "cell_type": "code",
   "execution_count": 344,
   "metadata": {},
   "outputs": [],
   "source": [
    "#profile_data"
   ]
  },
  {
   "cell_type": "code",
   "execution_count": 345,
   "metadata": {},
   "outputs": [],
   "source": [
    "#driver.find_element(By.ID,\"ember434\").click()\n",
    "driver.back()"
   ]
  },
  {
   "cell_type": "code",
   "execution_count": 346,
   "metadata": {},
   "outputs": [
    {
     "data": {
      "text/plain": [
       "{'name': 'Juan Ruiz',\n",
       " 'url': 'https://www.linkedin.com/in/juan--ruiz/',\n",
       " 'headline': 'Ingeniero Industrial | Python | Data science | Data analytics | Business Intelligence | Power BI | SQL | Tableau',\n",
       " 'about': 'Confió plenamente en mis habilidades blandas para liderar y crear equipos de trabajos sólidos, basándome en la participación y escucha activa de todos los colaboradores.Así como confesar ser un apasionado en la búsqueda de resolución de problemas, lo cual implica tener siempre una gran motivación para seguir perfeccionando habilidades que a futuro permitan desarrollar ideas/soluciones sólidas y duraderas.Confió plenamente en mis habilidades blandas para liderar y crear equipos de trabajos sólidos, basándome en la participación y escucha activa de todos los colaboradores.\\n\\nAsí como confesar ser un apasionado en la búsqueda de resolución de problemas, lo cual implica tener siempre una gran motivación para seguir perfeccionando habilidades que a futuro permitan desarrollar ideas/soluciones sólidas y duraderas.',\n",
       " 'experience': [{'company_name': 'Cambio de profesión',\n",
       "   'duration': 'jul. 2024 - actualidad · 1 año',\n",
       "   'designation': [{'designation': 'Sin dato',\n",
       "     'duration': 'Sin dato',\n",
       "     'location': 'Sin dato',\n",
       "     'project': 'Linkedin scraper in python'}]},\n",
       "  {'company_name': 'Production Chief',\n",
       "   'duration': 'jul. 2023 - jun. 2024 · 1 año',\n",
       "   'designation': [{'designation': 'Sin dato',\n",
       "     'duration': 'Sin dato',\n",
       "     'location': 'Sin dato',\n",
       "     'project': 'Linkedin scraper in python'}]},\n",
       "  {'company_name': 'Ingeniero de procesos y mejora continua',\n",
       "   'duration': 'ago. 2022 - abr. 2023 · 9 meses',\n",
       "   'designation': [{'designation': 'Sin dato',\n",
       "     'duration': 'Sin dato',\n",
       "     'location': 'Sin dato',\n",
       "     'project': 'Linkedin scraper in python'}]},\n",
       "  {'company_name': 'Jefe de Mantenimiento y mejora continua',\n",
       "   'duration': 'ene. 2021 - ago. 2022 · 1 año 8 meses',\n",
       "   'designation': [{'designation': 'Sin dato',\n",
       "     'duration': 'Sin dato',\n",
       "     'location': 'Sin dato',\n",
       "     'project': 'Linkedin scraper in python'}]},\n",
       "  {'company_name': 'Dielo (Fantoche)',\n",
       "   'duration': 'Provincia de Buenos Aires, Argentina',\n",
       "   'designation': [{'designation': 'Jefe de mantenimiento',\n",
       "     'duration': 'feb. 2020 - ene. 2021 · 1 año',\n",
       "     'location': 'Presencial',\n",
       "     'project': 'Responsable de la planificación y programación de las actividades de mantenimiento preventivo y correctivo de los equipos productivos y no productivos, como así también, el mantenimiento edilicio de planta. Liderar y coordinar las tareas del sector de mantenimiento, dando seguimiento y control mediante la generación de documentación del sector (KPI’S, OT, POEs, Certificaciones, etc.).\\nBrindar colaboración en el seguimiento de obras y nuevos proyectos en el manejo de contratistas y personal de obra o de instalación de equipos.\\nEstablecer un sistema de gestión de pañol, en donde se analizaron los stock actual de insumos y se procedió a darle una codificación, establecer auditorias de pañol.\\nPara la adquisición de insumos, se mantenía de manera casi periódica el contacto con los proveedores, dándole seguimiento a los mismo.'},\n",
       "    {'designation': 'Planner de Mantenimiento',\n",
       "     'duration': 'abr. 2019 - feb. 2020 · 11 meses',\n",
       "     'location': '•\\tPlanificación y coordinación de trabajos en paradas de planta.\\n•\\tGenerar y presentar reportes de mantenimiento a los directivos.\\n•\\tPlanificación y seguimiento de compras de repuestos e insumos para el sector.\\n•\\tImplementación de sistema/gestión de Pañol.\\n•\\tGestión de sistemas TPM – 5S para el departamento de mantenimiento.\\n•\\tGestión de sistemas de Calidad ISO 9001/2015.\\n•\\tAtención de autoridades regulatorias.',\n",
       "     'project': 'Linkedin scraper in python'}]}],\n",
       " 'education': [{'college': 'Universidad Nacional de La Matanza',\n",
       "   'degree': 'Ingeniero Industrial',\n",
       "   'duration': 'abr. 2010 - dic. 2017'},\n",
       "  {'college': 'UTN - Facultad Regional Haedo',\n",
       "   'degree': 'Tecnicatura en Programacion, Programación informática, aplicaciones específicas',\n",
       "   'duration': 'abr. 2023 - dic. 2025'}],\n",
       " 'license': [{'name': 'Máster en SQL Server: Desde Cero a Nivel Profesional',\n",
       "   'istitute': 'Udemy',\n",
       "   'issued_date': 'Expedición: may. 2024'},\n",
       "  {'name': 'Python Data Analytics',\n",
       "   'istitute': 'EANT - Escuela Argentina de Nuevas Tecnologías',\n",
       "   'issued_date': 'Expedición: oct. 2021'},\n",
       "  {'name': 'Automatizacion Industrial',\n",
       "   'istitute': 'UTN Facultad Regional General Pacheco',\n",
       "   'issued_date': 'Expedición: sept. 2021'},\n",
       "  {'name': 'Curso Introductorio a la Programación en Python',\n",
       "   'istitute': 'ITBA Universidad',\n",
       "   'issued_date': 'Expedición: ago. 2021'},\n",
       "  {'name': 'Python Data Developer',\n",
       "   'istitute': 'EANT - Escuela Argentina de Nuevas Tecnologías',\n",
       "   'issued_date': 'Expedición: jul. 2021'}]}"
      ]
     },
     "execution_count": 346,
     "metadata": {},
     "output_type": "execute_result"
    }
   ],
   "source": [
    "profile_data"
   ]
  },
  {
   "cell_type": "markdown",
   "metadata": {},
   "source": [
    "### Create a json file"
   ]
  },
  {
   "cell_type": "code",
   "execution_count": 349,
   "metadata": {},
   "outputs": [],
   "source": [
    "import json\n",
    "with open('data/profile_data_linkedin.json','w') as f:\n",
    "  json.dump(profile_data,f,indent=4)"
   ]
  },
  {
   "cell_type": "code",
   "execution_count": null,
   "metadata": {},
   "outputs": [],
   "source": []
  }
 ],
 "metadata": {
  "kernelspec": {
   "display_name": "base",
   "language": "python",
   "name": "python3"
  },
  "language_info": {
   "codemirror_mode": {
    "name": "ipython",
    "version": 3
   },
   "file_extension": ".py",
   "mimetype": "text/x-python",
   "name": "python",
   "nbconvert_exporter": "python",
   "pygments_lexer": "ipython3",
   "version": "3.11.7"
  }
 },
 "nbformat": 4,
 "nbformat_minor": 2
}
