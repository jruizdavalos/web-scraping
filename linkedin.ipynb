{
 "cells": [
  {
   "cell_type": "code",
   "execution_count": 12,
   "id": "1d70f772",
   "metadata": {},
   "outputs": [
    {
     "data": {
      "text/plain": [
       "True"
      ]
     },
     "execution_count": 12,
     "metadata": {},
     "output_type": "execute_result"
    }
   ],
   "source": [
    "import warnings\n",
    "warnings.filterwarnings(\"ignore\")\n",
    "\n",
    "import os\n",
    "from bs4 import BeautifulSoup\n",
    "from selenium import webdriver\n",
    "from selenium.webdriver.common.by import By\n",
    "\n",
    "import random\n",
    "import requests\n",
    "\n",
    "import pandas as pd\n",
    "\n",
    "import time\n",
    "\n",
    "from time import sleep\n",
    "\n",
    "from dotenv import load_dotenv\n",
    "load_dotenv()\n"
   ]
  },
  {
   "cell_type": "code",
   "execution_count": 8,
   "id": "e0b426d5",
   "metadata": {},
   "outputs": [],
   "source": [
    "from selenium.webdriver.chrome.options import Options\n",
    "\n",
    "options = Options()\n",
    "options.headless = False  # Activa el modo headless"
   ]
  },
  {
   "cell_type": "code",
   "execution_count": 9,
   "id": "9ca7c6de",
   "metadata": {},
   "outputs": [
    {
     "data": {
      "text/plain": [
       "('jaruizdavalos@gmail.com', 'juan4669')"
      ]
     },
     "execution_count": 9,
     "metadata": {},
     "output_type": "execute_result"
    }
   ],
   "source": [
    "os.environ['EMAIL2'], os.environ['PASSWORD2']"
   ]
  },
  {
   "cell_type": "code",
   "execution_count": 10,
   "id": "84ad580f",
   "metadata": {},
   "outputs": [],
   "source": [
    "driver = webdriver.Chrome(options=options)"
   ]
  },
  {
   "cell_type": "code",
   "execution_count": 11,
   "id": "764fee37",
   "metadata": {},
   "outputs": [],
   "source": [
    "title = \"Data Analytics\"\n",
    "location=\"Buenos Aires\""
   ]
  },
  {
   "cell_type": "code",
   "execution_count": 32,
   "id": "5dbecf25",
   "metadata": {},
   "outputs": [],
   "source": [
    "list_url=\"https://www.linkedin.com/jobs-guest/jobs/api/seeMoreJobPostings/search?keywords=Data%2BAnalysis&location=Argentina&geoId=100446943&f_TPR=&start=25\"\n",
    "\n",
    "response= requests.get(list_url)\n",
    "\n",
    "list_data= response.text\n",
    "list_soup= BeautifulSoup(list_data,'html.parser')\n",
    "page_jobs= list_soup.find_all(\"li\")\n"
   ]
  },
  {
   "cell_type": "code",
   "execution_count": 42,
   "id": "4a330f4c",
   "metadata": {},
   "outputs": [],
   "source": [
    "id_list=[]\n",
    "\n",
    "for job in page_jobs:\n",
    "  base_card_div = job.find(\"div\",{\"class\":'base-card'})\n",
    "  job_id=base_card_div.get('data-entity-urn').split(\":\")[3]\n",
    "  id_list.append(job_id)\n",
    "\n"
   ]
  },
  {
   "cell_type": "code",
   "execution_count": 50,
   "id": "a926ae5e",
   "metadata": {},
   "outputs": [
    {
     "data": {
      "text/plain": [
       "['4231883998',\n",
       " '4236054892',\n",
       " '4228309972',\n",
       " '4240939257',\n",
       " '4228971733',\n",
       " '4235215885',\n",
       " '4057999632',\n",
       " '4231722275',\n",
       " '4234117466',\n",
       " '4229368884']"
      ]
     },
     "execution_count": 50,
     "metadata": {},
     "output_type": "execute_result"
    }
   ],
   "source": [
    "id_list"
   ]
  },
  {
   "cell_type": "code",
   "execution_count": null,
   "id": "11b43509",
   "metadata": {},
   "outputs": [
    {
     "name": "stdout",
     "output_type": "stream",
     "text": [
      "<Response [200]>\n",
      "<Response [200]>\n",
      "<Response [200]>\n",
      "<Response [200]>\n",
      "<Response [200]>\n",
      "<Response [200]>\n",
      "<Response [200]>\n",
      "<Response [200]>\n",
      "<Response [200]>\n",
      "<Response [200]>\n"
     ]
    }
   ],
   "source": [
    "job_list=[]\n",
    "\n",
    "for job_id in id_list:\n",
    "  job_url =f'https://www.linkedin.com/jobs-guest/jobs/api/jobPosting/{job_id}'\n",
    "  job_response= requests.get(job_url)\n",
    "  print(job_response)\n",
    "  job_soup= BeautifulSoup(job_response.text,\"html.parser\")\n",
    "  \n",
    "  job_post={}\n",
    "  try:\n",
    "    job_post[\"company_name\"]= job_soup.find('a',{'class':'topcard__org-name-link topcard__flavor--black-link'}).text.strip()\n",
    "  except:\n",
    "    job_post['company_name']= None\n",
    "  try:\n",
    "    job_post[\"time_posted\"]= job_soup.find('span',{'class':'posted-time-ago__text topcard__flavor--metadata'}).text.strip()\n",
    "  except:\n",
    "    job_post['time_posted']=None\n",
    "  try:  \n",
    "    job_post[\"num_applicants\"]= job_soup.find('figcaption',{'class':'num-applicants__caption'}).text.strip()\n",
    "  except:\n",
    "    job_post[\"num_applicants\"]= job_soup.find('span',{'class':'num-applicants__caption topcard__flavor--metadata topcard__flavor--bullet'}).text.strip()\n",
    "  \n",
    "    \n",
    "    \n",
    "  job_list.append(job_post)\n",
    "  "
   ]
  },
  {
   "cell_type": "code",
   "execution_count": 61,
   "id": "8bffb8bc",
   "metadata": {},
   "outputs": [
    {
     "data": {
      "text/plain": [
       "[{'company_name': 'Naranja X',\n",
       "  'time_posted': '1 week ago',\n",
       "  'num_applicants': 'Over 200 applicants'},\n",
       " {'company_name': 'Instituto Tecnológico de Buenos Aires',\n",
       "  'time_posted': '6 days ago',\n",
       "  'num_applicants': '75 applicants'},\n",
       " {'company_name': 'Ualá',\n",
       "  'time_posted': '2 weeks ago',\n",
       "  'num_applicants': 'Over 200 applicants'},\n",
       " {'company_name': 'KPMG Argentina',\n",
       "  'time_posted': '3 days ago',\n",
       "  'num_applicants': 'Over 200 applicants'},\n",
       " {'company_name': 'GRUPO DISAL S.A',\n",
       "  'time_posted': '2 weeks ago',\n",
       "  'num_applicants': 'Over 200 applicants'},\n",
       " {'company_name': 'Mercado Libre',\n",
       "  'time_posted': '1 week ago',\n",
       "  'num_applicants': '112 applicants'},\n",
       " {'company_name': 'Parque de la Costa S.A.',\n",
       "  'time_posted': '7 months ago',\n",
       "  'num_applicants': '135 applicants'},\n",
       " {'company_name': 'Danone',\n",
       "  'time_posted': '2 weeks ago',\n",
       "  'num_applicants': 'Over 200 applicants'},\n",
       " {'company_name': 'Frávega',\n",
       "  'time_posted': '1 week ago',\n",
       "  'num_applicants': 'Over 200 applicants'},\n",
       " {'company_name': 'Ledesma',\n",
       "  'time_posted': '3 weeks ago',\n",
       "  'num_applicants': 'Over 200 applicants'}]"
      ]
     },
     "execution_count": 61,
     "metadata": {},
     "output_type": "execute_result"
    }
   ],
   "source": [
    "job_list"
   ]
  },
  {
   "cell_type": "code",
   "execution_count": null,
   "id": "a1fbc03e",
   "metadata": {},
   "outputs": [],
   "source": []
  }
 ],
 "metadata": {
  "kernelspec": {
   "display_name": "base",
   "language": "python",
   "name": "python3"
  },
  "language_info": {
   "codemirror_mode": {
    "name": "ipython",
    "version": 3
   },
   "file_extension": ".py",
   "mimetype": "text/x-python",
   "name": "python",
   "nbconvert_exporter": "python",
   "pygments_lexer": "ipython3",
   "version": "3.11.7"
  }
 },
 "nbformat": 4,
 "nbformat_minor": 5
}
